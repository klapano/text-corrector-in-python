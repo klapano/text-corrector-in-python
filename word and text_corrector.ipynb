{
 "cells": [
  {
   "cell_type": "code",
   "execution_count": 3,
   "id": "478a7e71",
   "metadata": {},
   "outputs": [
    {
     "name": "stdout",
     "output_type": "stream",
     "text": [
      "enter your world :amchien elarning\n",
      "['amchien', 'elarning']\n",
      "machine\n",
      "learning\n"
     ]
    }
   ],
   "source": [
    "from textblob import TextBlob\n",
    "\n",
    "def convert(string):\n",
    "    lst = list(string.split())\n",
    "    return lst\n",
    "\n",
    "str1 = input('enter your world :')\n",
    "words = convert(str1)\n",
    "corrected = []\n",
    "\n",
    "for i in words:\n",
    "    corrected.append(TextBlob(i))\n",
    "print(words)\n",
    "\n",
    "for j in corrected:\n",
    "    print(j.correct())"
   ]
  },
  {
   "cell_type": "code",
   "execution_count": null,
   "id": "f7272469",
   "metadata": {},
   "outputs": [],
   "source": []
  }
 ],
 "metadata": {
  "kernelspec": {
   "display_name": "Python 3 (ipykernel)",
   "language": "python",
   "name": "python3"
  },
  "language_info": {
   "codemirror_mode": {
    "name": "ipython",
    "version": 3
   },
   "file_extension": ".py",
   "mimetype": "text/x-python",
   "name": "python",
   "nbconvert_exporter": "python",
   "pygments_lexer": "ipython3",
   "version": "3.8.10"
  }
 },
 "nbformat": 4,
 "nbformat_minor": 5
}
